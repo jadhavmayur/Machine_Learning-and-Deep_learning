{
 "cells": [
  {
   "cell_type": "code",
   "execution_count": 9,
   "id": "62401a66",
   "metadata": {},
   "outputs": [
    {
     "name": "stdout",
     "output_type": "stream",
     "text": [
      "1.jpeg\n",
      "1\n",
      "2.jpg\n",
      "2\n",
      "3.jpg\n",
      "3\n",
      "4.jpg\n",
      "4\n",
      "5.jpg\n",
      "5\n",
      "6.jpg\n",
      "6\n",
      "7.jpg\n",
      "7\n",
      "8.jpg\n",
      "8\n"
     ]
    }
   ],
   "source": [
    "import os\n",
    "from PIL import Image\n",
    "items = os.listdir(r'F:/mayur/rohit/IMG/')\n",
    "                   \n",
    "for item in items:\n",
    "    image1 = Image.open(os.path.join(r'F:/mayur/rohit/IMG/' + item))\n",
    "    im1 = image1.convert('RGB')\n",
    "    print(item)\n",
    "    print(item.split('.')[0])\n",
    "    im1.save(r'F:/mayur/rohit/PDF/' + item.split('.')[0] + '.pdf')"
   ]
  },
  {
   "cell_type": "code",
   "execution_count": null,
   "id": "69d4067a",
   "metadata": {},
   "outputs": [],
   "source": []
  }
 ],
 "metadata": {
  "kernelspec": {
   "display_name": "Python 3",
   "language": "python",
   "name": "python3"
  },
  "language_info": {
   "codemirror_mode": {
    "name": "ipython",
    "version": 3
   },
   "file_extension": ".py",
   "mimetype": "text/x-python",
   "name": "python",
   "nbconvert_exporter": "python",
   "pygments_lexer": "ipython3",
   "version": "3.7.10"
  }
 },
 "nbformat": 4,
 "nbformat_minor": 5
}
