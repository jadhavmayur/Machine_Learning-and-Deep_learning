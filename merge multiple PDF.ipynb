{
 "cells": [
  {
   "cell_type": "code",
   "execution_count": 36,
   "id": "155bc19b",
   "metadata": {},
   "outputs": [],
   "source": [
    "from PyPDF2 import PdfFileMerger\n",
    "import os"
   ]
  },
  {
   "cell_type": "code",
   "execution_count": 39,
   "id": "f36f1186",
   "metadata": {},
   "outputs": [],
   "source": [
    "merger=PdfFileMerger()"
   ]
  },
  {
   "cell_type": "code",
   "execution_count": 44,
   "id": "976baf2f",
   "metadata": {},
   "outputs": [],
   "source": [
    "os.chdir(\"F:/mayur/rohit/PDF/\" )\n"
   ]
  },
  {
   "cell_type": "code",
   "execution_count": 45,
   "id": "a2ff1cb2",
   "metadata": {},
   "outputs": [],
   "source": [
    "for item in os.listdir(r'F:/mayur/rohit/PDF/'):\n",
    "    if item.endswith('.pdf'):\n",
    "        merger.append(item)\n",
    "        "
   ]
  },
  {
   "cell_type": "code",
   "execution_count": 46,
   "id": "ee529811",
   "metadata": {},
   "outputs": [
    {
     "data": {
      "text/plain": [
       "<bound method PdfFileMerger.close of <PyPDF2.merger.PdfFileMerger object at 0x0000011E0FCA86C8>>"
      ]
     },
     "execution_count": 46,
     "metadata": {},
     "output_type": "execute_result"
    }
   ],
   "source": [
    "merger.write('F:/mayur/rohit/documents.pdf')\n",
    "merger.close"
   ]
  }
 ],
 "metadata": {
  "kernelspec": {
   "display_name": "Python 3",
   "language": "python",
   "name": "python3"
  },
  "language_info": {
   "codemirror_mode": {
    "name": "ipython",
    "version": 3
   },
   "file_extension": ".py",
   "mimetype": "text/x-python",
   "name": "python",
   "nbconvert_exporter": "python",
   "pygments_lexer": "ipython3",
   "version": "3.7.10"
  }
 },
 "nbformat": 4,
 "nbformat_minor": 5
}
